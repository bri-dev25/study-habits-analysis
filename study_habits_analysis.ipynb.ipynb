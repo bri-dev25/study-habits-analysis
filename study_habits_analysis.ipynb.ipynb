{
  "nbformat": 4,
  "nbformat_minor": 0,
  "metadata": {
    "colab": {
      "provenance": []
    },
    "kernelspec": {
      "name": "python3",
      "display_name": "Python 3"
    },
    "language_info": {
      "name": "python"
    }
  },
  "cells": [
    {
      "cell_type": "code",
      "source": [
        "!pip install openpyxl"
      ],
      "metadata": {
        "colab": {
          "base_uri": "https://localhost:8080/"
        },
        "id": "i4P5qbahXRcj",
        "outputId": "997eda59-c936-4796-bbf7-f521c7d73f4b"
      },
      "execution_count": 3,
      "outputs": [
        {
          "output_type": "stream",
          "name": "stdout",
          "text": [
            "Requirement already satisfied: openpyxl in /usr/local/lib/python3.11/dist-packages (3.1.5)\n",
            "Requirement already satisfied: et-xmlfile in /usr/local/lib/python3.11/dist-packages (from openpyxl) (2.0.0)\n"
          ]
        }
      ]
    },
    {
      "cell_type": "code",
      "source": [
        "import pandas as pd\n",
        "\n",
        "# 1. Carga del archivo Excel\n",
        "# Asegúrate de subir el archivo 'study_habits.xlsx' a Google Colab\n",
        "df = pd.read_excel('study_habits.xlsx')\n",
        "\n",
        "# 2. Análisis básico\n",
        "# Calcular el total de horas por día (Universidad + Chino + Inglés)\n",
        "df['Total_Horas'] = df['Horas_estudio_Universidad'] + df['Horas_estudio_chino'] + df['Horas_estudio_ingles']\n",
        "\n",
        "# Estadísticas básicas\n",
        "promedio_horas = df['Total_Horas'].mean()\n",
        "dia_mas_productivo = df.loc[df['Total_Horas'].idxmax(), 'Día']\n",
        "dia_menos_productivo = df.loc[df['Total_Horas'].idxmin(), 'Día']\n",
        "\n",
        "# 3. Generar recomendaciones\n",
        "recomendaciones = []\n",
        "for index, row in df.iterrows():\n",
        "    if row['Total_Horas'] < 2:\n",
        "        recomendaciones.append(f\"El {row['Día']} estudiaste solo {row['Total_Horas']} horas. ¡Intenta dedicar al menos 2 horas para mejorar tu productividad!\")\n",
        "    if row['Horas_estudio_chino'] == 0:\n",
        "        recomendaciones.append(f\"El {row['Día']} no estudiaste chino. Considera agregar 1 hora para avanzar en tu aprendizaje.\")\n",
        "    if row['Horas_estudio_ingles'] == 0:\n",
        "        recomendaciones.append(f\"El {row['Día']} no estudiaste inglés. Considera agregar 1 hora para mejorar tu fluidez.\")\n",
        "\n",
        "# 4. Calcular puntuación de productividad (1-100)\n",
        "# Criterios:\n",
        "# - Máximo 5 horas por día = 100 puntos\n",
        "# - Penalización por días con menos de 2 horas\n",
        "puntuacion = 0\n",
        "for horas in df['Total_Horas']:\n",
        "    if horas >= 5:\n",
        "        puntuacion += 100 / 7  # Máximo puntaje por día\n",
        "    elif horas >= 2:\n",
        "        puntuacion += (horas / 5) * (100 / 7)  # Proporcional\n",
        "    else:\n",
        "        puntuacion += (horas / 5) * (50 / 7)  # Penalización\n",
        "\n",
        "# Redondear la puntuación\n",
        "puntuacion = round(puntuacion)\n",
        "\n",
        "# Mensaje motivacional según la puntuación\n",
        "if puntuacion >= 80:\n",
        "    mensaje = \"¡Excelente trabajo! Eres muy constante en tus estudios.\"\n",
        "elif puntuacion >= 50:\n",
        "    mensaje = \"¡Buen esfuerzo! Puedes mejorar ajustando algunos días.\"\n",
        "else:\n",
        "    mensaje = \"Necesitas más constancia. ¡Tú puedes, sigue adelante!\"\n",
        "\n",
        "# 5. Mostrar resultados\n",
        "print(\"=== Análisis de Hábitos de Estudio ===\")\n",
        "print(f\"Promedio de horas diarias: {promedio_horas:.1f}\")\n",
        "print(f\"Día más productivo: {dia_mas_productivo} ({df.loc[df['Día'] == dia_mas_productivo, 'Total_Horas'].values[0]} horas)\")\n",
        "print(f\"Día menos productivo: {dia_menos_productivo} ({df.loc[df['Día'] == dia_menos_productivo, 'Total_Horas'].values[0]} horas)\")\n",
        "print(\"\\nRecomendaciones:\")\n",
        "if recomendaciones:\n",
        "    for rec in recomendaciones:\n",
        "        print(f\"- {rec}\")\n",
        "else:\n",
        "    print(\"¡Todo perfecto! Sigue así.\")\n",
        "print(f\"\\nPuntuación de Productividad: {puntuacion}/100\")\n",
        "print(mensaje)\n",
        "\n",
        "# 6. Guardar resultados en un archivo de texto\n",
        "with open(\"study_habits_results.txt\", \"w\") as file:\n",
        "    file.write(\"=== Análisis de Hábitos de Estudio ===\\n\")\n",
        "    file.write(f\"Promedio de horas diarias: {promedio_horas:.1f}\\n\")\n",
        "    file.write(f\"Día más productivo: {dia_mas_productivo} ({df.loc[df['Día'] == dia_mas_productivo, 'Total_Horas'].values[0]} horas)\\n\")\n",
        "    file.write(f\"Día menos productivo: {dia_menos_productivo} ({df.loc[df['Día'] == dia_menos_productivo, 'Total_Horas'].values[0]} horas)\\n\")\n",
        "    file.write(\"\\nRecomendaciones:\\n\")\n",
        "    if recomendaciones:\n",
        "        for rec in recomendaciones:\n",
        "            file.write(f\"- {rec}\\n\")\n",
        "    else:\n",
        "        file.write(\"¡Todo perfecto! Sigue así.\\n\")\n",
        "    file.write(f\"\\nPuntuación de Productividad: {puntuacion}/100\\n\")\n",
        "    file.write(mensaje)\n",
        "\n",
        "print(\"\\nResultados guardados en 'study_habits_results.txt'. ¡Descárgalo!\")"
      ],
      "metadata": {
        "colab": {
          "base_uri": "https://localhost:8080/"
        },
        "id": "xzhxXdkPWvKn",
        "outputId": "1d1bc6d2-ff7e-4893-d29e-b87ec7d412bf"
      },
      "execution_count": 8,
      "outputs": [
        {
          "output_type": "stream",
          "name": "stdout",
          "text": [
            "=== Análisis de Hábitos de Estudio ===\n",
            "Promedio de horas diarias: 3.0\n",
            "Día más productivo: Lunes (5 horas)\n",
            "Día menos productivo: Sabado (2 horas)\n",
            "\n",
            "Recomendaciones:\n",
            "- El Martes no estudiaste chino. Considera agregar 1 hora para avanzar en tu aprendizaje.\n",
            "- El Martes no estudiaste inglés. Considera agregar 1 hora para mejorar tu fluidez.\n",
            "- El Jueves no estudiaste inglés. Considera agregar 1 hora para mejorar tu fluidez.\n",
            "- El Viernes no estudiaste chino. Considera agregar 1 hora para avanzar en tu aprendizaje.\n",
            "- El Domingo no estudiaste inglés. Considera agregar 1 hora para mejorar tu fluidez.\n",
            "\n",
            "Puntuación de Productividad: 60/100\n",
            "¡Buen esfuerzo! Puedes mejorar ajustando algunos días.\n",
            "\n",
            "Resultados guardados en 'study_habits_results.txt'. ¡Descárgalo!\n"
          ]
        }
      ]
    },
    {
      "cell_type": "code",
      "source": [],
      "metadata": {
        "id": "BKD_Po1-XPEt"
      },
      "execution_count": null,
      "outputs": []
    }
  ]
}